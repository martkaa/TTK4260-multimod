{
 "cells": [
  {
   "cell_type": "markdown",
   "metadata": {},
   "source": [
    "# Importing required libraries"
   ]
  },
  {
   "cell_type": "code",
   "execution_count": 1,
   "metadata": {},
   "outputs": [],
   "source": [
    "import numpy as np\n",
    "import pandas as pd"
   ]
  },
  {
   "cell_type": "markdown",
   "metadata": {},
   "source": [
    "# Reading the data files"
   ]
  },
  {
   "cell_type": "code",
   "execution_count": 3,
   "metadata": {},
   "outputs": [],
   "source": [
    "path = '../data/VaginalPressureData/VaginalPressure/Data/'\n",
    "dataA = pd.read_csv(path + 'A.csv', header=0, sep=',')\n",
    "dataB = pd.read_csv(path + 'B.csv', header=0, sep=',')"
   ]
  },
  {
   "cell_type": "markdown",
   "metadata": {},
   "source": [
    "# Getting an overview of the data"
   ]
  },
  {
   "cell_type": "code",
   "execution_count": null,
   "metadata": {},
   "outputs": [],
   "source": [
    "# Displays the column headers and 5 first columns, useful to see if the data loaded correctly.\n",
    "dataA.head()"
   ]
  },
  {
   "cell_type": "markdown",
   "metadata": {
    "pycharm": {
     "name": "#%% md\n"
    }
   },
   "source": [
    "# Plotting a time series"
   ]
  },
  {
   "cell_type": "code",
   "execution_count": null,
   "metadata": {
    "pycharm": {
     "name": "#%%\n"
    }
   },
   "outputs": [],
   "source": [
    "import matplotlib.pyplot as plt\n",
    "\n",
    "# Looking at the header above, the first 8 columns are sensor readings,\n",
    "sensors = dataA.columns[:8]\n",
    "\n",
    "# .. and the next two are some dependent variables or system response\n",
    "game_params = dataA.columns[8:10]\n",
    "\n",
    "# .. and the final column shows the time of recording for each variable (in ms)\n",
    "time_step =  dataA.columns[-1]\n",
    "t_A = dataA[time_step] / 1000 # time in seconds\n",
    "\n",
    "fig, axs = plt.subplots(2, sharex=True)\n",
    "# Plot sensor readings wrt. time of recording\n",
    "for sensor in sensors:\n",
    "    axs[0].plot(t_A, dataA[sensor], label=sensor)\n",
    "\n",
    "# Plot dependent variables\n",
    "for p in game_params:\n",
    "    axs[1].plot(t_A, dataA[p], label=p)\n",
    "\n",
    "# Metadata\n",
    "axs[0].legend(loc='upper left',bbox_to_anchor=(1.05, 1))\n",
    "axs[1].legend(loc='upper left',bbox_to_anchor=(1.05, 1))\n",
    "\n",
    "axs[0].set_ylabel('pressure')\n",
    "axs[1].set_ylabel('distance')\n",
    "axs[1].set_xlabel('time [s]')\n",
    "\n",
    "plt.show()"
   ]
  },
  {
   "cell_type": "code",
   "execution_count": null,
   "metadata": {
    "pycharm": {
     "name": "#%% Data correlation\n"
    }
   },
   "outputs": [],
   "source": [
    "import seaborn as sns\n",
    "# Dropping \"Overall rank\" as it has the same information as \"Score\"\n",
    "corrmat = dataA.corr()\n",
    "sns.heatmap(corrmat, vmax=.8, square=True, cmap=\"viridis\");"
   ]
  }
 ],
 "metadata": {
  "kernelspec": {
   "display_name": "Python 3",
   "language": "python",
   "name": "python3"
  },
  "language_info": {
   "codemirror_mode": {
    "name": "ipython",
    "version": 3
   },
   "file_extension": ".py",
   "mimetype": "text/x-python",
   "name": "python",
   "nbconvert_exporter": "python",
   "pygments_lexer": "ipython3",
   "version": "3.7.3"
  }
 },
 "nbformat": 4,
 "nbformat_minor": 2
}
