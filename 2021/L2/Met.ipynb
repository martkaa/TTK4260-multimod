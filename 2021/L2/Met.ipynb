{
 "cells": [
  {
   "cell_type": "markdown",
   "metadata": {},
   "source": [
    "# Importing required libraries"
   ]
  },
  {
   "cell_type": "code",
   "execution_count": 1,
   "metadata": {},
   "outputs": [],
   "source": [
    "import numpy as np\n",
    "import pandas as pd"
   ]
  },
  {
   "cell_type": "markdown",
   "metadata": {},
   "source": [
    "# Reading the data files"
   ]
  },
  {
   "cell_type": "code",
   "execution_count": 2,
   "metadata": {},
   "outputs": [
    {
     "name": "stdout",
     "output_type": "stream",
     "text": [
      "20.39 %\n"
     ]
    }
   ],
   "source": [
    "path = '../data/Met/'\n",
    "train_data = pd.read_csv(path + 'Met_train.csv', header=0, sep=',')\n",
    "test_data = pd.read_csv(path + 'Met_test.csv', header=0, sep=',')\n",
    "\n",
    "train_test_ratio = len(test_data) / len(train_data)\n",
    "print('%0.2f' % (train_test_ratio * 100), \"%\")"
   ]
  },
  {
   "cell_type": "markdown",
   "metadata": {},
   "source": [
    "# Getting an overview of the data"
   ]
  },
  {
   "cell_type": "code",
   "execution_count": 3,
   "metadata": {},
   "outputs": [
    {
     "data": {
      "text/html": [
       "<div>\n",
       "<style scoped>\n",
       "    .dataframe tbody tr th:only-of-type {\n",
       "        vertical-align: middle;\n",
       "    }\n",
       "\n",
       "    .dataframe tbody tr th {\n",
       "        vertical-align: top;\n",
       "    }\n",
       "\n",
       "    .dataframe thead th {\n",
       "        text-align: right;\n",
       "    }\n",
       "</style>\n",
       "<table border=\"1\" class=\"dataframe\">\n",
       "  <thead>\n",
       "    <tr style=\"text-align: right;\">\n",
       "      <th></th>\n",
       "      <th>date</th>\n",
       "      <th>calendar_code</th>\n",
       "      <th>request_count</th>\n",
       "      <th>site_count</th>\n",
       "      <th>max_temp</th>\n",
       "      <th>min_temp</th>\n",
       "      <th>precipitation</th>\n",
       "      <th>events</th>\n",
       "    </tr>\n",
       "  </thead>\n",
       "  <tbody>\n",
       "    <tr>\n",
       "      <th>0</th>\n",
       "      <td>2014-09-01</td>\n",
       "      <td>0.0</td>\n",
       "      <td>165</td>\n",
       "      <td>6</td>\n",
       "      <td>30.6</td>\n",
       "      <td>22.8</td>\n",
       "      <td>0.0</td>\n",
       "      <td>Rain</td>\n",
       "    </tr>\n",
       "    <tr>\n",
       "      <th>1</th>\n",
       "      <td>2014-09-02</td>\n",
       "      <td>1.0</td>\n",
       "      <td>138</td>\n",
       "      <td>7</td>\n",
       "      <td>32.8</td>\n",
       "      <td>22.8</td>\n",
       "      <td>15.5</td>\n",
       "      <td>Rain-Thunderstorm</td>\n",
       "    </tr>\n",
       "    <tr>\n",
       "      <th>2</th>\n",
       "      <td>2014-09-03</td>\n",
       "      <td>1.0</td>\n",
       "      <td>127</td>\n",
       "      <td>7</td>\n",
       "      <td>29.4</td>\n",
       "      <td>18.3</td>\n",
       "      <td>0.0</td>\n",
       "      <td>None</td>\n",
       "    </tr>\n",
       "    <tr>\n",
       "      <th>3</th>\n",
       "      <td>2014-09-04</td>\n",
       "      <td>1.0</td>\n",
       "      <td>174</td>\n",
       "      <td>7</td>\n",
       "      <td>29.4</td>\n",
       "      <td>17.2</td>\n",
       "      <td>0.0</td>\n",
       "      <td>None</td>\n",
       "    </tr>\n",
       "    <tr>\n",
       "      <th>4</th>\n",
       "      <td>2014-09-05</td>\n",
       "      <td>1.0</td>\n",
       "      <td>196</td>\n",
       "      <td>7</td>\n",
       "      <td>30.6</td>\n",
       "      <td>21.7</td>\n",
       "      <td>0.0</td>\n",
       "      <td>Fog</td>\n",
       "    </tr>\n",
       "  </tbody>\n",
       "</table>\n",
       "</div>"
      ],
      "text/plain": [
       "         date  calendar_code  request_count  site_count  max_temp  min_temp  \\\n",
       "0  2014-09-01            0.0            165           6      30.6      22.8   \n",
       "1  2014-09-02            1.0            138           7      32.8      22.8   \n",
       "2  2014-09-03            1.0            127           7      29.4      18.3   \n",
       "3  2014-09-04            1.0            174           7      29.4      17.2   \n",
       "4  2014-09-05            1.0            196           7      30.6      21.7   \n",
       "\n",
       "   precipitation             events  \n",
       "0            0.0               Rain  \n",
       "1           15.5  Rain-Thunderstorm  \n",
       "2            0.0               None  \n",
       "3            0.0               None  \n",
       "4            0.0                Fog  "
      ]
     },
     "execution_count": 3,
     "metadata": {},
     "output_type": "execute_result"
    }
   ],
   "source": [
    "# Displays the column headers and 5 first columns, useful to see if the data loaded correctly.\n",
    "train_data.head()"
   ]
  },
  {
   "cell_type": "markdown",
   "metadata": {
    "pycharm": {
     "name": "#%% md\n"
    }
   },
   "source": [
    "# Plotting a time series\n",
    "Pandas DataFrames has a built-in wrapper for the matplotlib.pyplot plot function.\n",
    "We can simply pass the lists of columns in the DataFrame we want to plot. Let's plot a time series of the data."
   ]
  },
  {
   "cell_type": "code",
   "execution_count": 4,
   "metadata": {
    "pycharm": {
     "name": "#%%\n"
    }
   },
   "outputs": [
    {
     "data": {
      "text/plain": [
       "<Figure size 640x480 with 4 Axes>"
      ]
     },
     "metadata": {},
     "output_type": "display_data"
    }
   ],
   "source": [
    "import matplotlib.pyplot as plt\n",
    "\n",
    "fig, axs = plt.subplots(4, sharex=True)  # Instantiate 4 subplots\n",
    "# Define content of each subplot\n",
    "plot1 = ['max_temp', 'min_temp']\n",
    "plot2 = ['precipitation']\n",
    "plot3 = ['site_count']\n",
    "plot4 = ['request_count']\n",
    "plots = [plot1, plot2, plot3, plot4]\n",
    "# Define the style of each subplot\n",
    "kinds = ['line', 'bar', 'bar', 'bar']\n",
    "\n",
    "for (ax, plot, kind) in zip(axs, plots, kinds):\n",
    "    train_data.plot('date', plot, kind=kind, ax=ax)  # Plot directly from the DataFrame variable\n",
    "    ax.legend(loc='upper left',bbox_to_anchor=(1.05, 1))  # Position legend outside of the plots for visibility.\n",
    "\n",
    "plt.locator_params(axis='x', nbins=10)  # Limits the number of timestamps shown on the x-axis.\n",
    "plt.show()"
   ]
  },
  {
   "cell_type": "markdown",
   "metadata": {
    "pycharm": {
     "name": "#%% md\n"
    }
   },
   "source": [
    "# Data correlation\n",
    "The \"seaborn\" library offers a more high-level syntax and works great with pandas DataFrames."
   ]
  },
  {
   "cell_type": "code",
   "execution_count": 5,
   "metadata": {
    "pycharm": {
     "name": "#%% Data correlation\n"
    }
   },
   "outputs": [
    {
     "data": {
      "image/png": "[encoded data removed]",
      "text/plain": [
       "<Figure size 432x288 with 2 Axes>"
      ]
     },
     "metadata": {
      "needs_background": "light"
     },
     "output_type": "display_data"
    }
   ],
   "source": [
    "import seaborn as sns\n",
    "\n",
    "corrmat = train_data.corr()  # Compute pairwise correlation of columns.\n",
    "sns.heatmap(corrmat, vmax=.8, square=True, cmap=\"viridis\");"
   ]
  },
  {
   "cell_type": "code",
   "execution_count": null,
   "metadata": {},
   "outputs": [],
   "source": []
  }
 ],
 "metadata": {
  "kernelspec": {
   "display_name": "Python 3",
   "language": "python",
   "name": "python3"
  },
  "language_info": {
   "codemirror_mode": {
    "name": "ipython",
    "version": 3
   },
   "file_extension": ".py",
   "mimetype": "text/x-python",
   "name": "python",
   "nbconvert_exporter": "python",
   "pygments_lexer": "ipython3",
   "version": "3.7.3"
  }
 },
 "nbformat": 4,
 "nbformat_minor": 2
}
