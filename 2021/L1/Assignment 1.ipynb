{
 "cells": [
  {
   "cell_type": "code",
   "execution_count": 3,
   "metadata": {},
   "outputs": [],
   "source": [
    "%matplotlib inline\n",
    "import numpy as np\n",
    "import matplotlib.pyplot as plt\n"
   ]
  },
  {
   "cell_type": "code",
   "execution_count": 9,
   "metadata": {},
   "outputs": [],
   "source": [
    "#Assignment 1\n",
    "## Task 1.1"
   ]
  },
  {
   "cell_type": "code",
   "execution_count": 10,
   "metadata": {},
   "outputs": [
    {
     "data": {
      "image/png": "[encoded data removed]",
      "text/plain": [
       "<Figure size 432x288 with 1 Axes>"
      ]
     },
     "metadata": {
      "needs_background": "light"
     },
     "output_type": "display_data"
    }
   ],
   "source": [
    "def arbitrary_poly(params):\n",
    "    poly_model = lambda x: sum([p*(x**i) for i, p in enumerate(params)])\n",
    "    return poly_model\n",
    "\n",
    "# params: [theta_0, theta_1, ... , theta_n], where n = model order and theta_0 is bias \n",
    "true_params = [3,9,4]\n",
    "y_model = arbitrary_poly(true_params)\n",
    "\n",
    "# Plot true model\n",
    "x = np.linspace(start=-1, stop=1, num=20)\n",
    "plt.figure()\n",
    "plt.plot(x, y_model(x))\n",
    "plt.xlabel(\"x\")\n",
    "plt.ylabel(\"y\")\n",
    "plt.title(\"Model\");"
   ]
  },
  {
   "cell_type": "code",
   "execution_count": null,
   "metadata": {},
   "outputs": [],
   "source": [
    "## Task 1.2"
   ]
  },
  {
   "cell_type": "code",
   "execution_count": 11,
   "metadata": {},
   "outputs": [
    {
     "ename": "NameError",
     "evalue": "name 'noiseProbability' is not defined",
     "output_type": "error",
     "traceback": [
      "\u001b[0;31m---------------------------------------------------------------------------\u001b[0m",
      "\u001b[0;31mNameError\u001b[0m                                 Traceback (most recent call last)",
      "\u001b[0;32m<ipython-input-11-05d540c73916>\u001b[0m in \u001b[0;36m<module>\u001b[0;34m\u001b[0m\n\u001b[1;32m     20\u001b[0m \u001b[0mnoiseGaussian\u001b[0m  \u001b[0;34m=\u001b[0m \u001b[0mmagnitude\u001b[0m \u001b[0;34m*\u001b[0m \u001b[0mnp\u001b[0m\u001b[0;34m.\u001b[0m\u001b[0mrandom\u001b[0m\u001b[0;34m.\u001b[0m\u001b[0mnormal\u001b[0m\u001b[0;34m(\u001b[0m\u001b[0mloc\u001b[0m\u001b[0;34m,\u001b[0m \u001b[0mnormVariance\u001b[0m\u001b[0;34m,\u001b[0m \u001b[0mN\u001b[0m\u001b[0;34m)\u001b[0m\u001b[0;34m\u001b[0m\u001b[0;34m\u001b[0m\u001b[0m\n\u001b[1;32m     21\u001b[0m \u001b[0malfa\u001b[0m \u001b[0;34m=\u001b[0m \u001b[0;36m0.5\u001b[0m\u001b[0;34m\u001b[0m\u001b[0;34m\u001b[0m\u001b[0m\n\u001b[0;32m---> 22\u001b[0;31m \u001b[0mnoiseLaplace\u001b[0m \u001b[0;34m=\u001b[0m \u001b[0mnp\u001b[0m\u001b[0;34m.\u001b[0m\u001b[0mrandom\u001b[0m\u001b[0;34m.\u001b[0m\u001b[0mchoice\u001b[0m\u001b[0;34m(\u001b[0m\u001b[0mnoiseLaplace\u001b[0m\u001b[0;34m,\u001b[0m \u001b[0mint\u001b[0m\u001b[0;34m(\u001b[0m\u001b[0mN\u001b[0m\u001b[0;34m*\u001b[0m\u001b[0mnoiseProbability\u001b[0m\u001b[0;34m)\u001b[0m\u001b[0;34m)\u001b[0m\u001b[0;34m\u001b[0m\u001b[0;34m\u001b[0m\u001b[0m\n\u001b[0m\u001b[1;32m     23\u001b[0m \u001b[0mnoiseGaussian\u001b[0m \u001b[0;34m=\u001b[0m \u001b[0mnp\u001b[0m\u001b[0;34m.\u001b[0m\u001b[0mrandom\u001b[0m\u001b[0;34m.\u001b[0m\u001b[0mchoice\u001b[0m\u001b[0;34m(\u001b[0m\u001b[0mnoiseGaussian\u001b[0m\u001b[0;34m,\u001b[0m \u001b[0mint\u001b[0m\u001b[0;34m(\u001b[0m\u001b[0mN\u001b[0m\u001b[0;34m*\u001b[0m\u001b[0;34m(\u001b[0m\u001b[0;36m1\u001b[0m\u001b[0;34m-\u001b[0m\u001b[0mnoiseProbability\u001b[0m\u001b[0;34m)\u001b[0m\u001b[0;34m)\u001b[0m\u001b[0;34m)\u001b[0m\u001b[0;34m\u001b[0m\u001b[0;34m\u001b[0m\u001b[0m\n\u001b[1;32m     24\u001b[0m \u001b[0mnoise\u001b[0m \u001b[0;34m=\u001b[0m \u001b[0mnp\u001b[0m\u001b[0;34m.\u001b[0m\u001b[0mconcatenate\u001b[0m\u001b[0;34m(\u001b[0m\u001b[0;34m(\u001b[0m\u001b[0mnoiseLaplace\u001b[0m\u001b[0;34m,\u001b[0m \u001b[0mnoiseGaussian\u001b[0m\u001b[0;34m)\u001b[0m\u001b[0;34m)\u001b[0m\u001b[0;34m\u001b[0m\u001b[0;34m\u001b[0m\u001b[0m\n",
      "\u001b[0;31mNameError\u001b[0m: name 'noiseProbability' is not defined"
     ]
    }
   ],
   "source": [
    "# Hyperparameters for the type of noise-generating distribution.\n",
    "loc = 0           # location (mean) parameter \n",
    "scale = 1         # scaling (std dev) parameter\n",
    "magnitude = 1.2   # noise magnitude\n",
    "N = 200           # number of samples\n",
    "\n",
    "# Generate data points\n",
    "range_low = -1\n",
    "range_high = 1\n",
    "u = np.sort(np.random.uniform(range_low,range_high,N))\n",
    "y_true = y_model(u)\n",
    "\n",
    "# Generate noise\n",
    "from scipy.stats import norm, laplace\n",
    "\n",
    "laplaceBeta = 1 # Input as the scale parameter in the Laplacian distribution \n",
    "normVariance = 1 # Input as the scale parameter in the normal distribution\n",
    "\n",
    "noiseLaplace = magnitude * np.random.laplace(loc, laplaceBeta, N)\n",
    "noiseGaussian  = magnitude * np.random.normal(loc, normVariance, N)\n",
    "alfa = 0.5\n",
    "noiseLaplace = np.random.choice(noiseLaplace, int(N*noiseProbability))\n",
    "noiseGaussian = np.random.choice(noiseGaussian, int(N*(1-noiseProbability)))\n",
    "noise = np.concatenate((noiseLaplace, noiseGaussian))\n",
    "np.random.shuffle(noise)\n",
    "\n",
    "# Add noise to the generated data points - thus simulating measurement\n",
    "y = y_true + noise\n",
    "\n",
    "# Plot measured data\n",
    "plt.scatter(u, y, label=r\"Measured data\")\n",
    "u0 = np.linspace(-1, max(u), N)\n",
    "plt.plot(u0, y_model(u0), \"k\", alpha=0.3, lw=3, label=\"True model\")\n",
    "plt.legend()\n",
    "plt.xlabel(\"x\")\n",
    "plt.ylabel(\"y\");\n"
   ]
  },
  {
   "cell_type": "code",
   "execution_count": null,
   "metadata": {},
   "outputs": [],
   "source": []
  }
 ],
 "metadata": {
  "kernelspec": {
   "display_name": "Python 3",
   "language": "python",
   "name": "python3"
  },
  "language_info": {
   "codemirror_mode": {
    "name": "ipython",
    "version": 3
   },
   "file_extension": ".py",
   "mimetype": "text/x-python",
   "name": "python",
   "nbconvert_exporter": "python",
   "pygments_lexer": "ipython3",
   "version": "3.8.5"
  }
 },
 "nbformat": 4,
 "nbformat_minor": 4
}
