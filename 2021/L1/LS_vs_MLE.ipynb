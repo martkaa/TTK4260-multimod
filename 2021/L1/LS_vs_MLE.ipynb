{
 "cells": [
  {
   "cell_type": "code",
   "execution_count": 489,
   "metadata": {},
   "outputs": [],
   "source": [
    "%matplotlib inline\n",
    "import numpy as np\n",
    "import matplotlib.pyplot as plt"
   ]
  },
  {
   "cell_type": "markdown",
   "metadata": {},
   "source": [
    "# Polynomial regression - LS vs MLE"
   ]
  },
  {
   "cell_type": "markdown",
   "metadata": {},
   "source": [
    "### Selecting model-order and Generating data\n",
    "Here we will generate a synthetic dataset from a n-th order polynomial model **$y = \\theta_0  + \\theta_1 \\cdot u^1 + ... + \\theta_n \\cdot u^n $** and add some noise, with known distribution, to simulate sampling of the data, giving us **$y_{measured} = y + noise$**,  where:  \n",
    "$y$ = output  \n",
    "$u$ = input    \n",
    "$\\theta_{0,1,...,n}$ = model parameters   \n",
    "$noise$ = measurement noise\n",
    "\n",
    "Given the genreated input data $u$ and the measured data **$y_{measured}$** we will try to estimate the polynomial model coeffitienst $\\hat{\\theta}_{0,1,...,n}$ using the Least sqaures (LS) and Maximum likelihood estimate (MLE) methods."
   ]
  },
  {
   "cell_type": "markdown",
   "metadata": {},
   "source": [
    "### Model-order selection \n",
    "The \"params\" vector decides the order of the selected model, make sure to put in \\$n+1\\$ parameters into the vector for the get a model of order \\$n\\$, the first parameter \\$\\theta_0\\$ is the bias term"
   ]
  },
  {
   "cell_type": "code",
   "execution_count": 1,
   "metadata": {
    "pycharm": {
     "name": "#%%\n"
    }
   },
   "outputs": [
    {
     "ename": "NameError",
     "evalue": "name 'np' is not defined",
     "output_type": "error",
     "traceback": [
      "\u001b[0;31m---------------------------------------------------------------------------\u001b[0m",
      "\u001b[0;31mNameError\u001b[0m                                 Traceback (most recent call last)",
      "\u001b[0;32m<ipython-input-1-14ad09724b8f>\u001b[0m in \u001b[0;36m<module>\u001b[0;34m\u001b[0m\n\u001b[1;32m      8\u001b[0m \u001b[0;34m\u001b[0m\u001b[0m\n\u001b[1;32m      9\u001b[0m \u001b[0;31m# Plot true model\u001b[0m\u001b[0;34m\u001b[0m\u001b[0;34m\u001b[0m\u001b[0;34m\u001b[0m\u001b[0m\n\u001b[0;32m---> 10\u001b[0;31m \u001b[0mx\u001b[0m \u001b[0;34m=\u001b[0m \u001b[0mnp\u001b[0m\u001b[0;34m.\u001b[0m\u001b[0mlinspace\u001b[0m\u001b[0;34m(\u001b[0m\u001b[0mstart\u001b[0m\u001b[0;34m=\u001b[0m\u001b[0;36m0\u001b[0m\u001b[0;34m,\u001b[0m \u001b[0mstop\u001b[0m\u001b[0;34m=\u001b[0m\u001b[0;36m3\u001b[0m\u001b[0;34m,\u001b[0m \u001b[0mnum\u001b[0m\u001b[0;34m=\u001b[0m\u001b[0;36m100\u001b[0m\u001b[0;34m)\u001b[0m\u001b[0;34m\u001b[0m\u001b[0;34m\u001b[0m\u001b[0m\n\u001b[0m\u001b[1;32m     11\u001b[0m \u001b[0mplt\u001b[0m\u001b[0;34m.\u001b[0m\u001b[0mfigure\u001b[0m\u001b[0;34m(\u001b[0m\u001b[0;34m)\u001b[0m\u001b[0;34m\u001b[0m\u001b[0;34m\u001b[0m\u001b[0m\n\u001b[1;32m     12\u001b[0m \u001b[0mplt\u001b[0m\u001b[0;34m.\u001b[0m\u001b[0mplot\u001b[0m\u001b[0;34m(\u001b[0m\u001b[0mx\u001b[0m\u001b[0;34m,\u001b[0m \u001b[0my_model\u001b[0m\u001b[0;34m(\u001b[0m\u001b[0mx\u001b[0m\u001b[0;34m)\u001b[0m\u001b[0;34m)\u001b[0m\u001b[0;34m\u001b[0m\u001b[0;34m\u001b[0m\u001b[0m\n",
      "\u001b[0;31mNameError\u001b[0m: name 'np' is not defined"
     ]
    }
   ],
   "source": [
    "def arbitrary_poly(params):\n",
    "    poly_model = lambda x: sum([p*(x**i) for i, p in enumerate(params)])\n",
    "    return poly_model\n",
    "\n",
    "# params: [theta_0, theta_1, ... , theta_n], where n = model order and theta_0 is bias \n",
    "true_params = [1,-8,4]\n",
    "y_model = arbitrary_poly(true_params)\n",
    "\n",
    "# Plot true model\n",
    "x = np.linspace(start=0, stop=3, num=100)\n",
    "plt.figure()\n",
    "plt.plot(x, y_model(x))\n",
    "plt.xlabel(\"x\")\n",
    "plt.ylabel(\"y\")\n",
    "plt.title(\"Model\");"
   ]
  },
  {
   "cell_type": "markdown",
   "metadata": {},
   "source": [
    "### Measurement noise generation from a chosen distribution\n",
    "Probability density functions (PDFs):\n",
    "\n",
    "Gaussian pdf: $P(x) = \\frac{1}{\\sigma\\sqrt{2\\pi}}e^{-\\frac{1}{2}(\\frac{x-\\mu}{\\sigma})^2}$\n",
    "\n",
    "Laplacian pdf: $P(x) = \\frac{1}{2b}e^{-\\frac{|x-\\mu|}{b}}$\n",
    "\n",
    "Hyperparameters to adjust:\n",
    "- dist: \"laplace\" or \"gauss\" : the class of noise-generating distribution.\n",
    "- mu: The distribution's location parameter (mean value for Gauss).\n",
    "- sigma: The distribution's scaling parameter (std. for Gauss).\n",
    "- magnitude: The noise magnitude.\n",
    "- N: number of samples to generate for the model."
   ]
  },
  {
   "cell_type": "code",
   "execution_count": 734,
   "metadata": {
    "pycharm": {
     "name": "#%% Select a noise-generating distribution:\n"
    }
   },
   "outputs": [
    {
     "data": {
      "image/png": "[encoded data removed]",
      "text/plain": [
       "<Figure size 432x288 with 2 Axes>"
      ]
     },
     "metadata": {
      "needs_background": "light"
     },
     "output_type": "display_data"
    }
   ],
   "source": [
    "# Hyperparameters for the type of noise-generating distribution.\n",
    "dist = \"gauss\"  # choose between \"laplace\" or \"gauss\"\n",
    "loc = 0           # location (mean) parameter \n",
    "scale = 1         # scaling (std dev) parameter\n",
    "magnitude = 1.2   # noise magnitude\n",
    "N = 200           # number of samples\n",
    "\n",
    "np.random.seed(123)  # Non-random generation between code executions. Comment out for true random\n",
    "\n",
    "# The Laplace probability density function:\n",
    "# Also available in library \"scipy.stats.laplace\"\n",
    "def laplace_pdf(x, loc, scale):\n",
    "    return (1.0/(2.0 * scale)) * np.exp( -np.abs(x-loc) / scale)\n",
    "\n",
    "# The Gaussian probability density function:\n",
    "# Also available in library \"scipy.stats.norm\"\n",
    "def gauss_pdf(x, loc, scale):\n",
    "    return 1.0/(scale * np.sqrt(2.0 * np.pi)) * np.exp( -0.5 * ((x - loc) / scale)**2 )\n",
    "\n",
    "# Plot pdfs:\n",
    "fig, [ax0, ax1] = plt.subplots(2)\n",
    "\n",
    "n = np.linspace(start=(loc - 4*scale), stop=(loc + 4*scale), num=1000)  # input range centered around mean of pdf\n",
    "ax0.plot(n, gauss_pdf(n, loc, scale))\n",
    "ax0.set_title('Gaussian pdf')\n",
    "ax1.plot(n,laplace_pdf(n, loc, scale))\n",
    "ax1.set_title('Laplacian pdf')\n",
    "plt.tight_layout()\n",
    "plt.show()"
   ]
  },
  {
   "cell_type": "markdown",
   "metadata": {},
   "source": [
    "### Data generation:"
   ]
  },
  {
   "cell_type": "code",
   "execution_count": 735,
   "metadata": {
    "pycharm": {
     "name": "#%%\n"
    }
   },
   "outputs": [
    {
     "data": {
      "image/png": "[encoded data removed]",
      "text/plain": [
       "<Figure size 432x288 with 1 Axes>"
      ]
     },
     "metadata": {
      "needs_background": "light"
     },
     "output_type": "display_data"
    }
   ],
   "source": [
    "# Generate data points\n",
    "range_low = 0\n",
    "range_high = 4\n",
    "u = np.sort(np.random.uniform(range_low,range_high,N))\n",
    "y_true = y_model(u)\n",
    "\n",
    "# Generate noise\n",
    "from scipy.stats import norm, laplace\n",
    "if dist == \"laplace\":\n",
    "    #pdf = laplace_pdf\n",
    "    pdf = laplace.pdf\n",
    "    noise = magnitude * np.random.laplace(loc, scale, N)\n",
    "elif dist == \"gauss\":\n",
    "    #pdf = gauss_pdf\n",
    "    pdf = norm.pdf\n",
    "    noise = magnitude * np.random.normal(loc, scale, N)\n",
    "else:\n",
    "    raise Exception(\"Distribution not implemented, choose \\\"laplace\\\" or \\\"gauss\\\"\")\n",
    "\n",
    "# Add noise to the generated data points - thus simulating measurement\n",
    "y = y_true + noise\n",
    "\n",
    "# Plot measured data\n",
    "plt.scatter(u, y, label=r\"Measured data\")\n",
    "u0 = np.linspace(0, max(u), N)\n",
    "plt.plot(u0, y_model(u0), \"k\", alpha=0.3, lw=3, label=\"True model\")\n",
    "plt.legend()\n",
    "plt.xlabel(\"x\")\n",
    "plt.ylabel(\"y\");"
   ]
  },
  {
   "cell_type": "markdown",
   "metadata": {},
   "source": [
    "## Least squares regression - LS\n",
    "### Given the sampled data we can estimate the underlying polynomial model using LS regression\n",
    "Solution to a least squares problem is given by the normal equation:  \n",
    "$\\hat{\\mathbf{\\theta}} = (\\mathbf{u}^T\\cdot \\mathbf{u})^{-1}(\\mathbf{u}^T\\cdot \\mathbf{y})$\n",
    "\n",
    "### Step 1 - rewrite the model in matrix form to get the data tensor u\n",
    "$y_{measured} = \\theta_0  + \\theta_1 \\cdot u^1 + ... + \\theta_n \\cdot u^n  + noise =   [1 \\; u^1 \\; .. \\; u^n] \\cdot [ \\theta_0 \\; \\theta_1 \\; .. \\; \\theta_n ] ^T + noise$\n",
    "\n",
    "$\\mathbf{u} = [1 \\; u^1 \\; .. \\; u^n]$"
   ]
  },
  {
   "cell_type": "code",
   "execution_count": 736,
   "metadata": {},
   "outputs": [
    {
     "name": "stdout",
     "output_type": "stream",
     "text": [
      "data u :\n",
      "[[0.01075226]\n",
      " [0.02970551]\n",
      " [0.06451683]\n",
      " [0.11727889]\n",
      " [0.12879174]] \n",
      "\n",
      "data tensor [1, u, u^2, ... , u^n] :\n",
      "[[1.00000000e+00 1.07522583e-02 1.15611058e-04]\n",
      " [1.00000000e+00 2.97055142e-02 8.82417573e-04]\n",
      " [1.00000000e+00 6.45168268e-02 4.16242094e-03]\n",
      " [1.00000000e+00 1.17278892e-01 1.37543384e-02]\n",
      " [1.00000000e+00 1.28791740e-01 1.65873122e-02]]\n"
     ]
    }
   ],
   "source": [
    "# Matrix form\n",
    "u_tensor_0 = np.reshape(u,(N,1))\n",
    "print(f\"data u :\\n{u_tensor_0[0:5]} \\n\")\n",
    "\n",
    "ones_vec = np.ones((N,1))\n",
    "u_tensor = np.append(ones_vec, u_tensor_0, axis=1)\n",
    "\n",
    "for i in range(2,len(true_params)):\n",
    "    u_tensor = np.append(u_tensor, np.power(u_tensor_0, i) ,axis=1)\n",
    "\n",
    "print(f\"data tensor [1, u, u^2, ... , u^n] :\\n{u_tensor[0:5,:]}\")"
   ]
  },
  {
   "cell_type": "markdown",
   "metadata": {},
   "source": [
    "### Step 2   \n",
    "\n",
    "calculate $(\\mathbf{u}^T \\cdot \\mathbf{u})^{-1}$"
   ]
  },
  {
   "cell_type": "code",
   "execution_count": 737,
   "metadata": {},
   "outputs": [
    {
     "name": "stdout",
     "output_type": "stream",
     "text": [
      "[[ 0.05424037 -0.05321654  0.01117055]\n",
      " [-0.05321654  0.0671349  -0.01580994]\n",
      " [ 0.01117055 -0.01580994  0.00398592]]\n"
     ]
    }
   ],
   "source": [
    "u_transpose_dot_u = np.dot(u_tensor.T,u_tensor)  # calculating dot product\n",
    "u_transpose_dot_u_inv = np.linalg.inv(u_transpose_dot_u) #calculating inverse\n",
    "print(u_transpose_dot_u_inv)"
   ]
  },
  {
   "cell_type": "markdown",
   "metadata": {},
   "source": [
    "### Step 3  \n",
    "\n",
    "calculate $(\\mathbf{u}^T \\cdot \\mathbf{y})$"
   ]
  },
  {
   "cell_type": "code",
   "execution_count": 738,
   "metadata": {},
   "outputs": [
    {
     "name": "stdout",
     "output_type": "stream",
     "text": [
      "[ 1095.6940978   3973.20430355 13684.58520515]\n"
     ]
    }
   ],
   "source": [
    "u_transpose_dot_y = np.dot(u_tensor.T,y)  # calculating dot product\n",
    "print(u_transpose_dot_y)"
   ]
  },
  {
   "cell_type": "markdown",
   "metadata": {},
   "source": [
    "### Step 4 \n",
    "\n",
    "solve for $\\hat{\\mathbf{\\theta}} = (\\mathbf{u}^T\\cdot \\mathbf{u})^{-1}(\\mathbf{u}^T\\cdot \\mathbf{y})$"
   ]
  },
  {
   "cell_type": "code",
   "execution_count": 739,
   "metadata": {},
   "outputs": [
    {
     "name": "stdout",
     "output_type": "stream",
     "text": [
      "LS parameters:         ['0.85', '-7.92', '3.97']\n",
      "True model parameters: [1, -8, 4]\n"
     ]
    },
    {
     "data": {
      "image/png": "[encoded data removed]",
      "text/plain": [
       "<Figure size 432x288 with 1 Axes>"
      ]
     },
     "metadata": {
      "needs_background": "light"
     },
     "output_type": "display_data"
    }
   ],
   "source": [
    "LS_params = np.dot(u_transpose_dot_u_inv,u_transpose_dot_y)\n",
    "LS_params_rounded = [\"{:.2f}\".format(round(i, 2)) for i in LS_params.tolist()]\n",
    "print(f\"LS parameters:         {LS_params_rounded}\")\n",
    "print(f\"True model parameters: {true_params}\")\n",
    "\n",
    "# Recreate model based on LS estimate:\n",
    "LS_params = LS_params.tolist()\n",
    "LS_estimate = arbitrary_poly(LS_params)\n",
    "\n",
    "# Plot true vs. estimated model\n",
    "plt.scatter(u, y, label=r\"Measured data $\\mathcal{N}(\\mu, \\sigma)$\")\n",
    "u0 = np.linspace(0, max(u), N)\n",
    "plt.plot(u0, y_model(u0), \"k\", alpha=0.3, lw=3, label=\"True model\")\n",
    "plt.plot(u0, LS_estimate(u0), \"r--\",  lw=3, label=\"LS estimate\")\n",
    "#plt.xlim(0, 10)\n",
    "plt.legend()\n",
    "plt.xlabel(\"x\")\n",
    "plt.ylabel(\"y\");"
   ]
  },
  {
   "cell_type": "markdown",
   "metadata": {},
   "source": [
    "## Maximum likelihood estimation regression - MLE\n",
    "In the special case where the sampled data and the measurement noise are normally distributed\n",
    "the MLE solution is equal to the LS solution, the code below solves the presented first order regression problem using maximum liklihood estimation.\n",
    "\n",
    "Source: http://web.vu.lt/mif/a.buteikis/wp-content/uploads/PE_Book/3-4-UnivarMLE.html"
   ]
  },
  {
   "cell_type": "markdown",
   "metadata": {},
   "source": [
    "### Step 1 - define the log likelihood function to be minimized"
   ]
  },
  {
   "cell_type": "code",
   "execution_count": 740,
   "metadata": {},
   "outputs": [],
   "source": [
    "def log_lik(par_vec, y, x):\n",
    "    global pdf  # Use the distribution class chosen earlier\n",
    "    # If the standard deviation parameter is negative, return a large value:\n",
    "    if par_vec[-1] < 0:\n",
    "        return(1e8)\n",
    "    # The likelihood function values:\n",
    "    lik = pdf(y,\n",
    "              loc = sum([p*(x**i) for i, p in enumerate(par_vec[:-1])]),\n",
    "              scale = par_vec[-1])\n",
    "    \n",
    "    #This is similar to calculating the likelihood for Y - XB\n",
    "    # res = y - par_vec[0] - par_vec[1] * x\n",
    "    # lik = norm.pdf(res, loc = 0, sd = par_vec[2])\n",
    "    \n",
    "    # If all logarithms are zero, return a large value\n",
    "    if all(v == 0 for v in lik):\n",
    "        return(1e8)\n",
    "    # Logarithm of zero = -Inf\n",
    "    return(-sum(np.log(lik[np.nonzero(lik)])))"
   ]
  },
  {
   "cell_type": "markdown",
   "metadata": {},
   "source": [
    "### Step 2 - use optimization solver to fit the data to the likelihood function"
   ]
  },
  {
   "cell_type": "code",
   "execution_count": 741,
   "metadata": {},
   "outputs": [
    {
     "name": "stdout",
     "output_type": "stream",
     "text": [
      "Warning: Desired error not necessarily achieved due to precision loss.\n",
      "         Current function value: 310.199498\n",
      "         Iterations: 40\n",
      "         Function evaluations: 385\n",
      "         Gradient evaluations: 77\n",
      "\n",
      "MLE parameters:        ['0.85', '-7.92', '3.97']\n",
      "True model parameters: [1, -8, 4]\n"
     ]
    }
   ],
   "source": [
    "import scipy.optimize as optimize\n",
    "\n",
    "# The likelihood function includes the scale (std dev) parameter which is also estimated by the optimized\n",
    "# therefore the initial guess verctor has length n+2 [theta_0_hat, theta_1_hat, ... , theta_n_hat, sigma_hat]\n",
    "init_guess = np.zeros(len(true_params)+1)\n",
    "init_guess[-1] = N\n",
    "\n",
    "# Do Maximum Likelihood Estimation:\n",
    "opt_res = optimize.minimize(fun = log_lik,\n",
    "                            x0 = init_guess,\n",
    "                            options={'disp': True},\n",
    "                            args = (y, u))\n",
    "\n",
    "MLE_params = opt_res.x[:-1]\n",
    "MLE_estimate = arbitrary_poly(MLE_params)\n",
    "\n",
    "MLE_params_rounded = [\"{:.2f}\".format(round(i, 2)) for i in MLE_params.tolist()]\n",
    "print(f\"\\nMLE parameters:        {MLE_params_rounded}\")\n",
    "print(f\"True model parameters: {true_params}\")"
   ]
  },
  {
   "cell_type": "markdown",
   "metadata": {},
   "source": [
    "## Comparing LS & MLE"
   ]
  },
  {
   "cell_type": "code",
   "execution_count": 742,
   "metadata": {
    "pycharm": {
     "name": "#%% Plot estimates\n"
    }
   },
   "outputs": [
    {
     "name": "stdout",
     "output_type": "stream",
     "text": [
      "LS parameters:   ['0.85', '-7.92', '3.97']\n",
      "MLE parameters:  ['0.85', '-7.92', '3.97']\n",
      "True parameters: [1, -8, 4]\n"
     ]
    },
    {
     "data": {
      "image/png": "[encoded data removed]",
      "text/plain": [
       "<Figure size 432x288 with 1 Axes>"
      ]
     },
     "metadata": {
      "needs_background": "light"
     },
     "output_type": "display_data"
    }
   ],
   "source": [
    "print(f\"LS parameters:   {LS_params_rounded}\")\n",
    "print(f\"MLE parameters:  {MLE_params_rounded}\")\n",
    "print(f\"True parameters: {true_params}\")\n",
    "\n",
    "# Recreate model based on LS estimate:\n",
    "plt.figure()\n",
    "plt.scatter(u, y, alpha=0.3, label=r\"Measured data\")\n",
    "plt.plot(u, LS_estimate(u), \"r--\",  lw=3, label=\"LS estimate\")\n",
    "plt.plot(u, MLE_estimate(u), \"b:\",  lw=3, label=\"MLE\")\n",
    "plt.plot(u, y_model(u), \"k\", alpha=0.7, lw=3, label=\"True model\")\n",
    "plt.legend();"
   ]
  },
  {
   "cell_type": "markdown",
   "metadata": {},
   "source": [
    "### Calculating (Root mean square error) RMSE for LS and MLE\n",
    "\n",
    "**RMSE** = $\\sqrt{\\frac{1}{n}\\Sigma_{i=1}^{n}{\\big({\\hat{y}_i - y_{i}}\\big)^2}}$"
   ]
  },
  {
   "cell_type": "code",
   "execution_count": 743,
   "metadata": {},
   "outputs": [
    {
     "name": "stdout",
     "output_type": "stream",
     "text": [
      "LS - RMSE:  1.1411755964386383\n",
      "MLE - RMSE: 1.141175596438642\n"
     ]
    }
   ],
   "source": [
    "print(f\"LS - RMSE:  {np.sqrt(np.mean((LS_estimate(u)-y)**2))}\")\n",
    "print(f\"MLE - RMSE: {np.sqrt(np.mean((MLE_estimate(u)-y)**2))}\")"
   ]
  }
 ],
 "metadata": {
  "kernelspec": {
   "display_name": "Python 3",
   "language": "python",
   "name": "python3"
  },
  "language_info": {
   "codemirror_mode": {
    "name": "ipython",
    "version": 3
   },
   "file_extension": ".py",
   "mimetype": "text/x-python",
   "name": "python",
   "nbconvert_exporter": "python",
   "pygments_lexer": "ipython3",
   "version": "3.8.5"
  }
 },
 "nbformat": 4,
 "nbformat_minor": 4
}
