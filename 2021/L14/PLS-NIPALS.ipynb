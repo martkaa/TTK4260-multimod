{
 "cells": [
  {
   "cell_type": "markdown",
   "metadata": {},
   "source": [
    "# NIPALS: Non-linear Iterative PArtial Least Squares"
   ]
  },
  {
   "cell_type": "code",
   "execution_count": 1,
   "metadata": {},
   "outputs": [],
   "source": [
    "import numpy as np\n",
    "import random"
   ]
  },
  {
   "cell_type": "code",
   "execution_count": 2,
   "metadata": {},
   "outputs": [],
   "source": [
    "x = np.array([[4,9,6,7,7,8,3,2],\n",
    "              [6,15,10,15,17,22,9,4],\n",
    "              [8,21,14,23,27,36,15,6],\n",
    "              [10,21,14,13,11,10,3,4],\n",
    "              [12,27,18,21,21,24,9,6],\n",
    "              [14,33,22,29,31,38,15,8],\n",
    "              [16,33,22,19,15,12,3,6],\n",
    "              [18,39,26,27,25,26,9,8],\n",
    "              [20,45,30,35,35,40,15,10]])\n",
    "y = np.array([[1, 1],[3, 1],[5, 1],[1, 3],[3, 3],[5, 3],[1 ,5],[3, 5],[5 ,5]])\n",
    "#X=x[:-1,:]\n",
    "#Y=y[:-1,:]"
   ]
  },
  {
   "cell_type": "code",
   "execution_count": 4,
   "metadata": {},
   "outputs": [
    {
     "name": "stdout",
     "output_type": "stream",
     "text": [
      "(9, 8) (9, 8)\n",
      "(9, 2) (9, 2)\n"
     ]
    }
   ],
   "source": [
    "X=x\n",
    "Y=y\n",
    "print(x.shape,X.shape)\n",
    "print(y.shape,Y.shape)"
   ]
  },
  {
   "cell_type": "markdown",
   "metadata": {},
   "source": [
    "<img src='./images/nipals.png'>"
   ]
  },
  {
   "cell_type": "markdown",
   "metadata": {},
   "source": [
    "$$\\mathbf{X}_{a}=normalize(\\mathbf{X})$$\n",
    "$$\\mathbf{Y}_{a}=normalize(\\mathbf{Y})$$\n",
    "\n",
    "* Arrow 1: Perform 𝐾 regressions, regressing each column from $\\mathbf{X}_{a}$ onto the vector $\\mathbf{u}_{a}$. The slope coefficients from the regressions are stored as the entries in $\\mathbf{w}_{a}$. Columns in $\\mathbf{X}_{a}$ which are strongly correlated with $\\mathbf{u}_{a}$ will have large weights in $\\mathbf{w}_{a}$, while unrelated columns will have small, close to zero, weights. We can perform these regression in one go:\n",
    "$$\\mathbf{w}_{a}=(\\mathbf{u}_{a}^{'}\\mathbf{u}_{a})^{-1}\\mathbf{X}_{a}^{'}\\mathbf{u}_{a}$$\n",
    "* Normalize the weight vector to unit length:\n",
    "$$\\mathbf{w}_{a}=\\frac{\\mathbf{w}_{a}}{\\sqrt{\\mathbf{w}_{a}^{'}\\mathbf{w}_{a}}}$$\n",
    "* Regress every row in $\\mathbf{x}_{a}$ onto the weight vector. The slope coefficients are stored as entries in $\\mathbf{t}_{a}$. This means that rows in $\\mathbf{x}_{a}$ that have a similar pattern to that described by the weight vector will have large values in $\\mathbf{t}_{a}$. Observations that are totally different to $\\mathbf{w}_{a}$ will have near-zero score values. These $N$ regressions can be performed in one go:\n",
    "$$\\mathbf{t}_{a}=(\\mathbf{w}_{a}^{'}\\mathbf{w}_{a})^{-1}\\mathbf{X}_{a}^{'}\\mathbf{w}_{a}$$\n",
    "* Arrow 4 Next, regress every column in $\\mathbf{y}_{a}$ onto this score vector, $\\mathbf{t}_{a}$. The slope coefficients are stored in $\\mathbf{q}_{a}$. We can calculate all $M$ slope coefficients:\n",
    "$$\\mathbf{q}_{a}=(\\mathbf{t}_{a}^{'}\\mathbf{t}_{a})^{-1}\\mathbf{Y}_{a}^{'}\\mathbf{t}_{a}$$\n",
    "Arrow 5 Finally, regress each of the $N$ rows in $\\mathbf{y}_{a}$ onto this weight vector, $\\mathbf{q}_{a}$. Observations in $\\mathbf{y}_{a}$ that are strongly related to $\\mathbf{q}_{a}$ will have large positive or negative slope coefficients in vector $\\mathbf{u}_{a}$:\n",
    "$$\\mathbf{u}_{a}=(\\mathbf{q}_{a}^{'}\\mathbf{q}_{a})^{-1}\\mathbf{Y}_{a}\\mathbf{q}_{a}$$\n",
    "This is one round of the NIPALS algorithm. We iterate through these 4 arrow steps until the $\\mathbf{u}_{a}$ vector does not change much. On convergence, we store these 4 vectors: $\\mathbf{w}_{a}$, $\\mathbf{t}_{a}$, $\\mathbf{q}_{a}$ and $\\mathbf{u}_{a}$ which jointly define the $a^{th}$ component.\n",
    "Then we deflate. Deflation removes variability already explained from $\\mathbf{X}_{a}$ and $\\mathbf{Y}_{a}$. Deflation proceeds as follows:\n",
    "\n",
    "Step 1: Calculate a loadings vector for the $X$ space, $\\mathbf{p}_{a}$ called using the X-space scores: \n",
    "$$\\mathbf{p}_{a}=(\\mathbf{t}_{a}^{'}\\mathbf{t}_{a})^{-1}\\mathbf{X}_{a}^{'}\\mathbf{t}_{a}$$\n",
    "Step 2: Remove the predicted variability from $X$ and $Y$ Using the loadings, $\\mathbf{p}_{a}$ just calculated\n",
    "above, we remove from $\\mathbf{X}_{a}$ the best prediction of $\\mathbf{p}_{a}$, in other words, remove everything we can explain about it. We also remove any variance explained from $\\mathbf{Y}_{a}$:\n",
    "$$\\mathbf{\\hat{X}}_{a}=\\mathbf{t}_{a}\\mathbf{p}_{a}^{'}$$\n",
    "$$\\mathbf{\\hat{Y}}_{a}=\\mathbf{u}_{a}\\mathbf{q}_{a}^{'}$$\n",
    "$$\\mathbf{X}_{a}=\\mathbf{X}_{a}-\\mathbf{\\hat{X}}_{a}$$\n",
    "$$\\mathbf{Y}_{a}=\\mathbf{Y}_{a}-\\mathbf{\\hat{Y}}_{a}$$"
   ]
  },
  {
   "cell_type": "code",
   "execution_count": 5,
   "metadata": {},
   "outputs": [],
   "source": [
    "def pls(X, Y, no_components):\n",
    "    MAXITER=10000\n",
    "    CC=0.000000001\n",
    "    Xc = (X-X.mean(axis=0))/X.std(axis=0,ddof=1)\n",
    "    Yc = (Y-Y.mean(axis=0))/Y.std(axis=0,ddof=1)\n",
    "    data_samples,X_variables = X.shape\n",
    "    data_samples,Y_variables = Y.shape\n",
    "    \n",
    "    W = np.empty((X_variables, no_components))\n",
    "    T = np.empty((data_samples, no_components))\n",
    "    Q = np.empty((Y_variables, no_components))\n",
    "    U = np.empty((data_samples, no_components))\n",
    "    P = np.empty((X_variables, no_components))\n",
    "    c = np.empty((no_components,))\n",
    "    components = 0\n",
    "    Xa = Xc\n",
    "    Ya = Yc\n",
    "\n",
    "    for j in range(0, no_components):\n",
    "        ua = Ya[:,0]\n",
    "        ITER = 0\n",
    "        delU = CC * 10.0\n",
    "\n",
    "        while ITER < MAXITER and delU > CC:                      \n",
    "            wa = np.dot(Xa.T,ua)/np.dot(ua.T,ua)\n",
    "            wa = wa/np.linalg.norm(wa, 2)\n",
    "            ta = np.dot(Xa,wa)/np.dot(wa.T,wa)\n",
    "            qa = np.dot(Ya.T,ta)/np.dot(ta.T,ta)\n",
    "            qa = qa/np.linalg.norm(qa, 2)\n",
    "            old_ua = ua\n",
    "            ua = np.dot(Ya,qa)/np.dot(qa.T,qa)\n",
    "            delU = np.linalg.norm(ua - old_ua)\n",
    "            ITER += 1\n",
    "\n",
    "        if ITER >= MAXITER:\n",
    "            if ignore_failures:\n",
    "                break\n",
    "            else:\n",
    "                raise ConvergenceError('PLS failed to converge for ' 'component: ' '{}'.format(components+1))\n",
    "        W[:, j] = wa\n",
    "        T[:, j] = ta\n",
    "        Q[:, j] = qa\n",
    "        U[:, j] = ua\n",
    "\n",
    "        P[:, j] = np.dot(Xa.T,ta) / np.dot(ta.T,ta)\n",
    "        Xa = Xa - np.outer(ta, P[:, j].T)\n",
    "        Ya = Ya -  np.outer(ta, qa.T)\n",
    "    return T,W,U,Q,P"
   ]
  },
  {
   "cell_type": "code",
   "execution_count": 6,
   "metadata": {},
   "outputs": [],
   "source": [
    "[T,W,U,Q,P] = pls(X,Y,2)"
   ]
  },
  {
   "cell_type": "code",
   "execution_count": 7,
   "metadata": {},
   "outputs": [
    {
     "data": {
      "text/plain": [
       "array([[ 0.76964905,  0.63846718],\n",
       "       [ 0.63846718, -0.76964905]])"
      ]
     },
     "execution_count": 7,
     "metadata": {},
     "output_type": "execute_result"
    }
   ],
   "source": [
    "Q"
   ]
  },
  {
   "cell_type": "code",
   "execution_count": 8,
   "metadata": {},
   "outputs": [
    {
     "data": {
      "text/plain": [
       "array([[-1.62595257,  0.15147577],\n",
       "       [-0.7372384 ,  0.88871417],\n",
       "       [ 0.15147577,  1.62595257],\n",
       "       [-0.88871417, -0.7372384 ],\n",
       "       [ 0.        ,  0.        ],\n",
       "       [ 0.88871417,  0.7372384 ],\n",
       "       [-0.15147577, -1.62595257],\n",
       "       [ 0.7372384 , -0.88871417],\n",
       "       [ 1.62595257, -0.15147577]])"
      ]
     },
     "execution_count": 8,
     "metadata": {},
     "output_type": "execute_result"
    }
   ],
   "source": [
    "U"
   ]
  },
  {
   "cell_type": "code",
   "execution_count": 9,
   "metadata": {},
   "outputs": [
    {
     "data": {
      "text/plain": [
       "array([[-4.18022816,  0.17860415],\n",
       "       [-1.89539644,  1.0478774 ],\n",
       "       [ 0.38943527,  1.91715065],\n",
       "       [-2.28483172, -0.86927325],\n",
       "       [ 0.        ,  0.        ],\n",
       "       [ 2.28483172,  0.86927325],\n",
       "       [-0.38943527, -1.91715065],\n",
       "       [ 1.89539644, -1.0478774 ],\n",
       "       [ 4.18022816, -0.17860415]])"
      ]
     },
     "execution_count": 9,
     "metadata": {},
     "output_type": "execute_result"
    }
   ],
   "source": [
    "T"
   ]
  },
  {
   "cell_type": "code",
   "execution_count": 10,
   "metadata": {},
   "outputs": [
    {
     "data": {
      "text/plain": [
       "array([[ 0.33026333, -0.44801536],\n",
       "       [ 0.35600191, -0.34167241],\n",
       "       [ 0.35600191, -0.34167241],\n",
       "       [ 0.38849571,  0.04154404],\n",
       "       [ 0.37018428,  0.26033672],\n",
       "       [ 0.33147652,  0.44373521],\n",
       "       [ 0.29936472,  0.54148971],\n",
       "       [ 0.38728564, -0.07867023]])"
      ]
     },
     "execution_count": 10,
     "metadata": {},
     "output_type": "execute_result"
    }
   ],
   "source": [
    "W"
   ]
  },
  {
   "cell_type": "code",
   "execution_count": 11,
   "metadata": {},
   "outputs": [
    {
     "data": {
      "text/plain": [
       "array([[-1.62595257,  0.15147577],\n",
       "       [-0.7372384 ,  0.88871417],\n",
       "       [ 0.15147577,  1.62595257],\n",
       "       [-0.88871417, -0.7372384 ],\n",
       "       [ 0.        ,  0.        ],\n",
       "       [ 0.88871417,  0.7372384 ],\n",
       "       [-0.15147577, -1.62595257],\n",
       "       [ 0.7372384 , -0.88871417],\n",
       "       [ 1.62595257, -0.15147577]])"
      ]
     },
     "execution_count": 11,
     "metadata": {},
     "output_type": "execute_result"
    }
   ],
   "source": [
    "U"
   ]
  },
  {
   "cell_type": "code",
   "execution_count": null,
   "metadata": {},
   "outputs": [],
   "source": []
  },
  {
   "cell_type": "code",
   "execution_count": null,
   "metadata": {},
   "outputs": [],
   "source": []
  }
 ],
 "metadata": {
  "kernelspec": {
   "display_name": "Python 3",
   "language": "python",
   "name": "python3"
  },
  "language_info": {
   "codemirror_mode": {
    "name": "ipython",
    "version": 3
   },
   "file_extension": ".py",
   "mimetype": "text/x-python",
   "name": "python",
   "nbconvert_exporter": "python",
   "pygments_lexer": "ipython3",
   "version": "3.7.1"
  }
 },
 "nbformat": 4,
 "nbformat_minor": 2
}
