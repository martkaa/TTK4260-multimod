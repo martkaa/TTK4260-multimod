{
 "cells": [
  {
   "cell_type": "code",
   "execution_count": null,
   "metadata": {
    "colab": {},
    "colab_type": "code",
    "id": "gaVGtQYNRK4g"
   },
   "outputs": [],
   "source": [
    "import cv2\n",
    "import matplotlib.pyplot as plt\n",
    "import numpy as np\n",
    "%matplotlib inline"
   ]
  },
  {
   "cell_type": "code",
   "execution_count": null,
   "metadata": {},
   "outputs": [],
   "source": [
    "im1='./data/mixed1.jpg'\n",
    "im2='./data/mixed2.jpg'"
   ]
  },
  {
   "cell_type": "code",
   "execution_count": null,
   "metadata": {
    "colab": {},
    "colab_type": "code",
    "id": "aZ_svnS1RK4q"
   },
   "outputs": [],
   "source": [
    "# Function to show two images\n",
    "def showTwoIm(im1, im2):\n",
    "    plt.figure(figsize=(28, 14))\n",
    "    plt.subplot(1,2,1)\n",
    "    plt.imshow(im1,cmap='gray')\n",
    "    plt.axis('off')\n",
    "    plt.subplot(1,2,2)\n",
    "    plt.imshow(im2,cmap='gray')\n",
    "    plt.axis('off')\n",
    "    plt.show()"
   ]
  },
  {
   "cell_type": "code",
   "execution_count": null,
   "metadata": {
    "colab": {
     "base_uri": "https://localhost:8080/",
     "height": 214
    },
    "colab_type": "code",
    "executionInfo": {
     "elapsed": 752,
     "status": "error",
     "timestamp": 1581257207766,
     "user": {
      "displayName": "Ayrton Casella",
      "photoUrl": "",
      "userId": "09672620345393761208"
     },
     "user_tz": 180
    },
    "id": "-kQSnlmERK4w",
    "outputId": "643fa093-0422-44c7-d78c-9d95f36a2a33"
   },
   "outputs": [],
   "source": [
    "# Original images\n",
    "S1 = cv2.imread(im1,0)\n",
    "S2 = cv2.imread(im2,0)\n",
    "m,n = S1.shape\n",
    "showTwoIm(S1, S2)"
   ]
  },
  {
   "cell_type": "code",
   "execution_count": null,
   "metadata": {},
   "outputs": [],
   "source": [
    "plt.scatter(S1.flatten(),S2.flatten())"
   ]
  },
  {
   "cell_type": "code",
   "execution_count": null,
   "metadata": {
    "colab": {},
    "colab_type": "code",
    "id": "6L2ga6bGRK44"
   },
   "outputs": [],
   "source": [
    "X1 = S1 \n",
    "X2 = S2 \n",
    "\n",
    "showTwoIm(X1, X2)"
   ]
  },
  {
   "cell_type": "code",
   "execution_count": null,
   "metadata": {},
   "outputs": [],
   "source": [
    "plt.scatter(X1.flatten(),X2.flatten())"
   ]
  },
  {
   "cell_type": "markdown",
   "metadata": {
    "colab_type": "text",
    "id": "PO14kBdLRK4-"
   },
   "source": [
    "### Step 1: Rotation of the parallelogram \n",
    "Finding the angle with maximal variance\n",
    "\n",
    "Variance at an arbitrary angle of orientation:\n",
    "$$Var(\\theta)=\\sum_{j=1}^{N}\\left\\{ [x_1(j) \\quad x_2(j)] \\begin{bmatrix}\n",
    "cos \\theta  \\\\\n",
    "sin \\theta \\end{bmatrix} \\right\\}^2 $$\n",
    "Differentiating with respect to $\\theta$ \n",
    "$$ d\\frac{Var(\\theta)}{d \\theta}=\\sum_{j=1}^{N}[x_2^2(j)-x_1^2(j)]sin(2\\theta)+2x_1(j)x_2(j)cos(2\\theta)$$\n",
    "Setting $ d\\frac{Var(\\theta)}{d \\theta}=0$\n",
    "$$\\theta_o =\\frac{1}{2}tan^{-1}\\left [  \\frac{-2\\sum_{j=1}^{N}x_1(j)x_2(j)}{\\sum_{j=1}^{N}[x_2^2(j)-x_1^2(j)]}  \\right]$$"
   ]
  },
  {
   "cell_type": "markdown",
   "metadata": {},
   "source": [
    "# Task 1: Compute $\\theta_o$"
   ]
  },
  {
   "cell_type": "code",
   "execution_count": null,
   "metadata": {
    "colab": {},
    "colab_type": "code",
    "id": "dBKZ9BW0RK5A"
   },
   "outputs": [],
   "source": [
    "# make it a vector and center data around mean\n",
    "\n",
    "M, N = X1.shape\n",
    "\n",
    "x1 = X1.reshape(M*N, 1) \n",
    "x2 = X2.reshape(M*N, 1)\n",
    "\n",
    "x1v = x1 - np.mean(x1) \n",
    "x2v = x2 - np.mean(x2)\n",
    "\n",
    "theta0 = ??\n",
    "print(\"Theta = \",theta0*180/np.pi)"
   ]
  },
  {
   "cell_type": "markdown",
   "metadata": {},
   "source": [
    "$$U^{*}=\\begin{bmatrix}\n",
    "cos\\theta_o & sin \\theta_o \\\\\n",
    "-sin \\theta_o & cos \\theta_o \n",
    "\\end{bmatrix}$$"
   ]
  },
  {
   "cell_type": "code",
   "execution_count": null,
   "metadata": {
    "colab": {},
    "colab_type": "code",
    "id": "nXX5BMUmRK5F"
   },
   "outputs": [],
   "source": [
    "Ustar = np.array([[np.cos(theta0), np.sin(theta0)], \n",
    "               [-np.sin(theta0), np.cos(theta0)]])"
   ]
  },
  {
   "cell_type": "markdown",
   "metadata": {
    "colab_type": "text",
    "id": "3O6qqGSDRK5M"
   },
   "source": [
    "### Step 2: Scaling of parallelogram\n",
    "\n",
    "Finding the scaling of the principal components\n",
    "Variance along the two principal compoment axes:\n",
    "$$\\sigma_1=\\sum_{j=1}^{N}\\left\\{[x_1(j)\\quad x_2(j)] \\begin{bmatrix}\n",
    "cos\\theta_o  \\\\\n",
    "sin \\theta_o \\end{bmatrix}  \\right\\}^2$$\n",
    "$$\\sigma_2=\\sum_{j=1}^{N}\\left\\{[x_1(j)\\quad x_2(j)] \\begin{bmatrix}\n",
    "cos(\\theta_o -\\pi/2) \\\\\n",
    "sin(\\theta_o -\\pi/2) \\end{bmatrix}  \\right\\}^2$$"
   ]
  },
  {
   "cell_type": "markdown",
   "metadata": {},
   "source": [
    "# Task 2: Compute $\\sigma_1$ and $\\sigma_2$"
   ]
  },
  {
   "cell_type": "code",
   "execution_count": null,
   "metadata": {
    "colab": {},
    "colab_type": "code",
    "id": "cFnAv7AsRK5O"
   },
   "outputs": [],
   "source": [
    "sigma1 = ??\n",
    "sigma2 = ??"
   ]
  },
  {
   "cell_type": "code",
   "execution_count": null,
   "metadata": {},
   "outputs": [],
   "source": [
    "print(\"sigma = \",sigma1/sigma2,sigma2/sigma2)"
   ]
  },
  {
   "cell_type": "markdown",
   "metadata": {},
   "source": [
    "To undo the scaling:\n",
    "$$\\Sigma^{-1}=\\begin{bmatrix}\n",
    "1/\\sqrt{\\sigma_1} & 0 \\\\\n",
    "0 & 1/\\sqrt{\\sigma_2} \\end{bmatrix}$$"
   ]
  },
  {
   "cell_type": "code",
   "execution_count": null,
   "metadata": {},
   "outputs": [],
   "source": [
    "Sigma_inv = np.array([[1/np.sqrt(sigma1), 0], \n",
    "                      [0, 1/np.sqrt(sigma2)]])"
   ]
  },
  {
   "cell_type": "code",
   "execution_count": null,
   "metadata": {},
   "outputs": [],
   "source": [
    "X1bar = (Ustar[0,0]*X1+Ustar[0,1]*X2)\n",
    "X2bar = (Ustar[1,0]*X1+Ustar[1,1]*X2)"
   ]
  },
  {
   "cell_type": "markdown",
   "metadata": {
    "colab_type": "text",
    "id": "GdGSoh0fRK5T"
   },
   "source": [
    "### Step 3: Rotation to produce a separable probability distribution\n",
    "$$kurt(\\phi)=K(\\phi)=\\sum_{j=1}^{N}\\left\\{ [\\bar{x}_1(j) \\quad \\bar{x}_2(j)] \\begin{bmatrix}\n",
    "cos \\phi  \\\\\n",
    "sin \\phi \\end{bmatrix} \\right\\}^4 $$\n",
    "\n",
    "$$\\bar{K}(\\phi)=\\sum_{j=1}^{N} \\frac{1}{\\bar{x}_1^{2}(j)+\\bar{x}_2^{2}(j)}  \\left\\{ [\\bar{x}_1(j) \\quad \\bar{x}_2(j)] \\begin{bmatrix}\n",
    "cos \\phi  \\\\\n",
    "sin \\phi \\end{bmatrix} \\right\\}^4 $$\n",
    "\n",
    "$$\\frac{d\\bar{K}(\\phi)}{d \\phi}=0$$\n",
    "gives\n",
    "$$\\phi_o=\\frac{1}{4}tan^{-1}\\left [ \\frac{-\\Sigma_{j=1}^{N}[2\\bar{x}_1^3(j)\\bar{x}_2(j)-2\\bar{x}_1(j)\\bar{x}_2^3(j)]/[\\bar{x}_1^2(j)+x_2^2(j)]}{\\Sigma_{j=1}^{N} [3\\bar{x}_1^2(j)\\bar{x}_2^2(j)-(1/2)\\bar{x}_1^4(j)-(1/2)\\bar{x}_2^4(j)]/[\\bar{x}_1^2(j)+\\bar{x}_2^2(j)]} \\right ]\n",
    "$$"
   ]
  },
  {
   "cell_type": "code",
   "execution_count": null,
   "metadata": {
    "colab": {},
    "colab_type": "code",
    "id": "weL4V3V2RK5U"
   },
   "outputs": [],
   "source": [
    "X1bar = Sigma_inv[0,0]*X1bar\n",
    "X2bar = Sigma_inv[1,1]*X2bar"
   ]
  },
  {
   "cell_type": "markdown",
   "metadata": {},
   "source": [
    "# Task 3: Compute $\\phi_o$"
   ]
  },
  {
   "cell_type": "code",
   "execution_count": null,
   "metadata": {},
   "outputs": [],
   "source": [
    "x1vbar = X1bar.reshape(M*N, 1)\n",
    "x2vbar = X2bar.reshape(M*N, 1)\n",
    "\n",
    "phi0 = ??\n",
    "\n",
    "V = np.array([[np.cos(phi0), np.sin(phi0)],\n",
    "              [-np.sin(phi0), np.cos(phi0)]])\n",
    "\n",
    "m1 = V[0,0]*X1bar+V[0,1]*X2bar\n",
    "m2 = V[1,0]*X1bar+V[1,1]*X2bar\n",
    "\n",
    "S1_hat = (m1 - np.min(m1))/(np.max(m1) - np.min(m1))\n",
    "S2_hat = (m2 - np.min(m2))/(np.max(m2) - np.min(m2))"
   ]
  },
  {
   "cell_type": "markdown",
   "metadata": {},
   "source": [
    "# Showing results"
   ]
  },
  {
   "cell_type": "code",
   "execution_count": null,
   "metadata": {},
   "outputs": [],
   "source": [
    "showTwoIm(S1_hat, S2_hat)"
   ]
  },
  {
   "cell_type": "code",
   "execution_count": null,
   "metadata": {},
   "outputs": [],
   "source": [
    "plt.scatter(S1_hat.flatten(),S2_hat.flatten())"
   ]
  },
  {
   "cell_type": "markdown",
   "metadata": {},
   "source": [
    "# Comparing with original"
   ]
  },
  {
   "cell_type": "code",
   "execution_count": null,
   "metadata": {
    "colab": {},
    "colab_type": "code",
    "id": "CWb_qxEQRK5a"
   },
   "outputs": [],
   "source": [
    "showTwoIm(S1, S2)"
   ]
  },
  {
   "cell_type": "code",
   "execution_count": null,
   "metadata": {},
   "outputs": [],
   "source": [
    "plt.scatter(S1.flatten(),S2.flatten())"
   ]
  }
 ],
 "metadata": {
  "colab": {
   "collapsed_sections": [],
   "name": "ICA applied in images.ipynb",
   "provenance": []
  },
  "kernelspec": {
   "display_name": "Python 3",
   "language": "python",
   "name": "python3"
  },
  "language_info": {
   "codemirror_mode": {
    "name": "ipython",
    "version": 3
   },
   "file_extension": ".py",
   "mimetype": "text/x-python",
   "name": "python",
   "nbconvert_exporter": "python",
   "pygments_lexer": "ipython3",
   "version": "3.7.3"
  }
 },
 "nbformat": 4,
 "nbformat_minor": 1
}
